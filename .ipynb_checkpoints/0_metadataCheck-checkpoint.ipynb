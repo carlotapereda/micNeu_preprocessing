{
 "cells": [
  {
   "cell_type": "code",
   "execution_count": null,
   "id": "4a8b8ef4-d066-4f00-b754-a60836b52d3a",
   "metadata": {},
   "outputs": [],
   "source": [
    "import anndata as ad\n"
   ]
  },
  {
   "cell_type": "markdown",
   "id": "76bc0858-fddb-4c19-9cd5-9b691cef57b9",
   "metadata": {},
   "source": [
    "Objective: check the metadata of the 3 datasets SEAAD, MIT-ROSMAP, and deJaeger"
   ]
  },
  {
   "cell_type": "code",
   "execution_count": null,
   "id": "fea1f38c-7875-4a4b-b4a2-d53190458bce",
   "metadata": {},
   "outputs": [],
   "source": [
    "adata = ad.read_h5ad(\"your_file.h5ad\", backed=\"r\")\n",
    "obs_df = adata.obs.copy()  # triggers minimal loading\n",
    "adata.file.close()  # close to free resources\n",
    "\n",
    "print(obs_df.head())\n"
   ]
  }
 ],
 "metadata": {
  "kernelspec": {
   "display_name": "Python (scvi-env-clean)",
   "language": "python",
   "name": "scvi-env-clean"
  },
  "language_info": {
   "codemirror_mode": {
    "name": "ipython",
    "version": 3
   },
   "file_extension": ".py",
   "mimetype": "text/x-python",
   "name": "python",
   "nbconvert_exporter": "python",
   "pygments_lexer": "ipython3",
   "version": "3.10.18"
  }
 },
 "nbformat": 4,
 "nbformat_minor": 5
}
